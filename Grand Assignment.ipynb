{
 "cells": [
  {
   "cell_type": "code",
   "execution_count": 1,
   "id": "4f453bbc",
   "metadata": {},
   "outputs": [
    {
     "name": "stdout",
     "output_type": "stream",
     "text": [
      "Hello World!\n"
     ]
    }
   ],
   "source": [
    "message = \"Hello World!\"\n",
    "print(message)"
   ]
  },
  {
   "cell_type": "code",
   "execution_count": 6,
   "id": "77049771",
   "metadata": {},
   "outputs": [
    {
     "name": "stdout",
     "output_type": "stream",
     "text": [
      "\"Happiness can be found, even in the darkest of times, if one only remembers to turn on the light.\" ― Albus Dumbledore.\n"
     ]
    }
   ],
   "source": [
    "print('\"Happiness can be found, even in the darkest of times, if one only remembers to turn on the light.\" ― Albus Dumbledore.')"
   ]
  },
  {
   "cell_type": "code",
   "execution_count": 1,
   "id": "db4f1b94",
   "metadata": {},
   "outputs": [
    {
     "name": "stdout",
     "output_type": "stream",
     "text": [
      "please enter radius of circle:0.5\n",
      "area_of_circle with  radius 0.5 is:  0.7857\n"
     ]
    }
   ],
   "source": [
    "radius = (float(input(\"please enter radius of circle:\"))) \n",
    "pi = 3.1428\n",
    "area_of_circle = pi*(radius**2)\n",
    "print(f\"area_of_circle with  radius {radius} is: \" ,area_of_circle)"
   ]
  },
  {
   "cell_type": "code",
   "execution_count": 2,
   "id": "4e890ee1",
   "metadata": {},
   "outputs": [
    {
     "name": "stdout",
     "output_type": "stream",
     "text": [
      "Enter a number: 6\n",
      "Positive number\n"
     ]
    }
   ],
   "source": [
    "num = float(input(\"Enter a number: \"))\n",
    "if num > 0:\n",
    "   print(\"Positive number\")\n",
    "elif num == 0:\n",
    "   print(\"Zero\")\n",
    "else:\n",
    "   print(\"Negative number\")"
   ]
  },
  {
   "cell_type": "code",
   "execution_count": 4,
   "id": "71751878",
   "metadata": {},
   "outputs": [
    {
     "name": "stdout",
     "output_type": "stream",
     "text": [
      "Enter a number: 0\n",
      "Zero\n"
     ]
    }
   ],
   "source": [
    "num = float(input(\"Enter a number: \"))\n",
    "if num > 0:\n",
    "   print(\"Positive number\")\n",
    "elif num == 0:\n",
    "   print(\"Zero\")\n",
    "else:\n",
    "   print(\"Negative number\")"
   ]
  },
  {
   "cell_type": "code",
   "execution_count": 6,
   "id": "8a91f50c",
   "metadata": {},
   "outputs": [
    {
     "name": "stdout",
     "output_type": "stream",
     "text": [
      "Enter a Letter: y\n",
      "Letter y is not a vowel\n"
     ]
    }
   ],
   "source": [
    "character = input(\"Enter a Letter: \")\n",
    "vowels = [\"A\",\"a\",\"E\",\"e\",\"I\",\"i\",\"O\",\"o\",\"U\",\"u\"]\n",
    "if character in vowels:\n",
    "    print(\"Letter\", character, \"is a vowel\")\n",
    "else:\n",
    "    print(\"Letter\", character, \"is not a vowel\")"
   ]
  },
  {
   "cell_type": "code",
   "execution_count": 9,
   "id": "caba51c6",
   "metadata": {},
   "outputs": [
    {
     "name": "stdout",
     "output_type": "stream",
     "text": [
      "Enter your Height in cms:170\n",
      "Enter your Weight in kgs:47\n",
      "Your BMI is:16.262975778546714\n"
     ]
    }
   ],
   "source": [
    "height = int(input(\"Enter your Height in cms:\"))\n",
    "weight = int(input(\"Enter your Weight in kgs:\"))\n",
    "BMI = weight/(height/100)**2\n",
    "print(f\"Your BMI is: {BMI}\")"
   ]
  },
  {
   "cell_type": "code",
   "execution_count": 1,
   "id": "79efd251",
   "metadata": {},
   "outputs": [
    {
     "name": "stdout",
     "output_type": "stream",
     "text": [
      "Ramsha\n",
      "Fizza\n",
      "Aisha\n",
      "Urooj\n",
      "Mariam\n",
      "Kulsoom\n"
     ]
    }
   ],
   "source": [
    "my_friends = [\"Ramsha\",\"Fizza\",\"Aisha\",\"Urooj\",\"Mariam\",\"Kulsoom\"]\n",
    "print(my_friends[0])\n",
    "print(my_friends[1])\n",
    "print(my_friends[2])\n",
    "print(my_friends[3])\n",
    "print(my_friends[4])\n",
    "print(my_friends[5])"
   ]
  },
  {
   "cell_type": "code",
   "execution_count": 8,
   "id": "36070f3d",
   "metadata": {},
   "outputs": [
    {
     "name": "stdout",
     "output_type": "stream",
     "text": [
      "Ramsha You're an amazing person!\n",
      "Fizza You're an amazing person!\n",
      "Aisha You're an amazing person!\n",
      "Urooj You're an amazing person!\n",
      "Mariam You're an amazing person!\n",
      "Kulsoom You're an amazing person!\n"
     ]
    }
   ],
   "source": [
    "my_friends = [\"Ramsha\",\"Fizza\",\"Aisha\",\"Urooj\",\"Mariam\",\"Kulsoom\"]\n",
    "print(my_friends[0], \"You're an amazing person!\")\n",
    "print(my_friends[1], \"You're an amazing person!\")\n",
    "print(my_friends[2], \"You're an amazing person!\")\n",
    "print(my_friends[3], \"You're an amazing person!\")\n",
    "print(my_friends[4], \"You're an amazing person!\")\n",
    "print(my_friends[5], \"You're an amazing person!\")"
   ]
  },
  {
   "cell_type": "code",
   "execution_count": 10,
   "id": "1c8a756e",
   "metadata": {},
   "outputs": [
    {
     "name": "stdout",
     "output_type": "stream",
     "text": [
      "The first three items in the food list are : ['Pasta', 'Ramen', 'Mac n Cheese']\n",
      "The first three items in the food list are : ['Pizza', 'Dynamite Prawns', 'Chicken Chowmein']\n",
      "The first three items in the food list are : ['Grilled Cheese', 'Chicken Burger', 'French Fries']\n"
     ]
    }
   ],
   "source": [
    "foods = [\"Pasta\",\"Ramen\",\"Mac n Cheese\",\"Pizza\",\"Dynamite Prawns\",\"Chicken Chowmein\",\"Grilled Cheese\",\"Chicken Burger\",\"French Fries\"]\n",
    "print(\"The first three items in the food list are :\", foods[:3] )\n",
    "print(\"The first three items in the food list are :\", foods[3:6] )\n",
    "print(\"The first three items in the food list are :\", foods[-3:] )"
   ]
  },
  {
   "cell_type": "code",
   "execution_count": 16,
   "id": "a9141b26",
   "metadata": {},
   "outputs": [
    {
     "name": "stdout",
     "output_type": "stream",
     "text": [
      "My food: \n",
      "\n",
      "My favorite food is: Pasta\n",
      "My favorite food is: Ramen\n",
      "My favorite food is: Mac n Cheese\n",
      "My favorite food is: Pizza\n",
      "My favorite food is: Dynamite Prawns\n",
      "My favorite food is: Chicken Chowmein\n",
      "My favorite food is: Grilled Cheese\n",
      "My favorite food is: Chicken Burger\n",
      "My favorite food is: French Fries\n",
      "My favorite food is: Fried Fish\n",
      "\n",
      "My friend's food:\n",
      "\n",
      "My friend's favorite food is: Pasta\n",
      "My friend's favorite food is: Ramen\n",
      "My friend's favorite food is: Mac n Cheese\n",
      "My friend's favorite food is: Pizza\n",
      "My friend's favorite food is: Dynamite Prawns\n",
      "My friend's favorite food is: Chicken Chowmein\n",
      "My friend's favorite food is: Grilled Cheese\n",
      "My friend's favorite food is: Chicken Burger\n",
      "My friend's favorite food is: French Fries\n",
      "My friend's favorite food is: Lobster\n"
     ]
    }
   ],
   "source": [
    "foods = [\"Pasta\",\"Ramen\",\"Mac n Cheese\",\"Pizza\",\"Dynamite Prawns\",\"Chicken Chowmein\",\"Grilled Cheese\",\n",
    "         \"Chicken Burger\",\"French Fries\"]\n",
    "friend_foods = [\"Pasta\",\"Ramen\",\"Mac n Cheese\",\"Pizza\",\"Dynamite Prawns\",\"Chicken Chowmein\",\"Grilled Cheese\",\n",
    "         \"Chicken Burger\",\"French Fries\"]\n",
    "foods.append(\"Fried Fish\")\n",
    "friend_foods.append(\"Lobster\")\n",
    "print(\"My food: \" + \"\\n\")\n",
    "for food in foods:\n",
    "    print(\"My favorite food is:\",food)\n",
    "print(\"\\n\" + \"My friend's food:\" + \"\\n\")\n",
    "for friend_food in friend_foods:\n",
    "    print(\"My friend's favorite food is:\", friend_food)"
   ]
  },
  {
   "cell_type": "code",
   "execution_count": null,
   "id": "f2b5223e",
   "metadata": {},
   "outputs": [],
   "source": []
  }
 ],
 "metadata": {
  "kernelspec": {
   "display_name": "Python 3 (ipykernel)",
   "language": "python",
   "name": "python3"
  },
  "language_info": {
   "codemirror_mode": {
    "name": "ipython",
    "version": 3
   },
   "file_extension": ".py",
   "mimetype": "text/x-python",
   "name": "python",
   "nbconvert_exporter": "python",
   "pygments_lexer": "ipython3",
   "version": "3.9.12"
  }
 },
 "nbformat": 4,
 "nbformat_minor": 5
}
